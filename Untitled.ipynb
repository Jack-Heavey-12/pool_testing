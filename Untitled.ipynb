{
 "cells": [
  {
   "cell_type": "code",
   "execution_count": 10,
   "id": "ee3b5fc8",
   "metadata": {},
   "outputs": [],
   "source": [
    "import numpy as np\n",
    "import pandas as pd\n",
    "from matplotlib import pyplot as plt\n",
    "%matplotlib inline"
   ]
  },
  {
   "cell_type": "code",
   "execution_count": 2,
   "id": "6364abc9",
   "metadata": {},
   "outputs": [],
   "source": [
    "full = pd.read_csv('results_file.csv')"
   ]
  },
  {
   "cell_type": "code",
   "execution_count": 4,
   "id": "3ff569d7",
   "metadata": {},
   "outputs": [
    {
     "data": {
      "text/html": [
       "<div>\n",
       "<style scoped>\n",
       "    .dataframe tbody tr th:only-of-type {\n",
       "        vertical-align: middle;\n",
       "    }\n",
       "\n",
       "    .dataframe tbody tr th {\n",
       "        vertical-align: top;\n",
       "    }\n",
       "\n",
       "    .dataframe thead th {\n",
       "        text-align: right;\n",
       "    }\n",
       "</style>\n",
       "<table border=\"1\" class=\"dataframe\">\n",
       "  <thead>\n",
       "    <tr style=\"text-align: right;\">\n",
       "      <th></th>\n",
       "      <th>Nodes</th>\n",
       "      <th>Num Cascades</th>\n",
       "      <th>Prob Infection</th>\n",
       "      <th>LP Objective Value</th>\n",
       "      <th>Rounded Objective Value</th>\n",
       "      <th>Fixed Cascades?</th>\n",
       "      <th>Sets Sampled</th>\n",
       "      <th>N_p</th>\n",
       "      <th>Budget</th>\n",
       "    </tr>\n",
       "  </thead>\n",
       "  <tbody>\n",
       "    <tr>\n",
       "      <th>0</th>\n",
       "      <td>3080</td>\n",
       "      <td>500</td>\n",
       "      <td>0.2</td>\n",
       "      <td>28.402</td>\n",
       "      <td>28.402</td>\n",
       "      <td>Y</td>\n",
       "      <td>1000</td>\n",
       "      <td>3</td>\n",
       "      <td>10</td>\n",
       "    </tr>\n",
       "    <tr>\n",
       "      <th>1</th>\n",
       "      <td>3080</td>\n",
       "      <td>500</td>\n",
       "      <td>0.2</td>\n",
       "      <td>28.438</td>\n",
       "      <td>28.438</td>\n",
       "      <td>Y</td>\n",
       "      <td>1000</td>\n",
       "      <td>3</td>\n",
       "      <td>10</td>\n",
       "    </tr>\n",
       "    <tr>\n",
       "      <th>2</th>\n",
       "      <td>3080</td>\n",
       "      <td>500</td>\n",
       "      <td>0.2</td>\n",
       "      <td>28.390</td>\n",
       "      <td>28.390</td>\n",
       "      <td>Y</td>\n",
       "      <td>1000</td>\n",
       "      <td>3</td>\n",
       "      <td>10</td>\n",
       "    </tr>\n",
       "    <tr>\n",
       "      <th>3</th>\n",
       "      <td>3080</td>\n",
       "      <td>500</td>\n",
       "      <td>0.2</td>\n",
       "      <td>28.408</td>\n",
       "      <td>28.408</td>\n",
       "      <td>Y</td>\n",
       "      <td>1000</td>\n",
       "      <td>3</td>\n",
       "      <td>10</td>\n",
       "    </tr>\n",
       "    <tr>\n",
       "      <th>4</th>\n",
       "      <td>3080</td>\n",
       "      <td>500</td>\n",
       "      <td>0.2</td>\n",
       "      <td>28.422</td>\n",
       "      <td>28.422</td>\n",
       "      <td>Y</td>\n",
       "      <td>1000</td>\n",
       "      <td>3</td>\n",
       "      <td>10</td>\n",
       "    </tr>\n",
       "  </tbody>\n",
       "</table>\n",
       "</div>"
      ],
      "text/plain": [
       "   Nodes  Num Cascades  Prob Infection  LP Objective Value  \\\n",
       "0   3080           500             0.2              28.402   \n",
       "1   3080           500             0.2              28.438   \n",
       "2   3080           500             0.2              28.390   \n",
       "3   3080           500             0.2              28.408   \n",
       "4   3080           500             0.2              28.422   \n",
       "\n",
       "   Rounded Objective Value Fixed Cascades?  Sets Sampled  N_p  Budget  \n",
       "0                   28.402               Y          1000    3      10  \n",
       "1                   28.438               Y          1000    3      10  \n",
       "2                   28.390               Y          1000    3      10  \n",
       "3                   28.408               Y          1000    3      10  \n",
       "4                   28.422               Y          1000    3      10  "
      ]
     },
     "execution_count": 4,
     "metadata": {},
     "output_type": "execute_result"
    }
   ],
   "source": [
    "full.head()"
   ]
  },
  {
   "cell_type": "code",
   "execution_count": 5,
   "id": "92dec12e",
   "metadata": {},
   "outputs": [],
   "source": [
    "sets = pd.read_csv('temp.csv')"
   ]
  },
  {
   "cell_type": "code",
   "execution_count": 11,
   "id": "3815157b",
   "metadata": {},
   "outputs": [],
   "source": [
    "sets_agg = sets.groupby(['Sets Sampled']).agg({'Rounded Objective Value': [np.mean, np.std]}).reset_index()"
   ]
  },
  {
   "cell_type": "code",
   "execution_count": 15,
   "id": "6fcb9f45",
   "metadata": {},
   "outputs": [
    {
     "data": {
      "text/html": [
       "<div>\n",
       "<style scoped>\n",
       "    .dataframe tbody tr th:only-of-type {\n",
       "        vertical-align: middle;\n",
       "    }\n",
       "\n",
       "    .dataframe tbody tr th {\n",
       "        vertical-align: top;\n",
       "    }\n",
       "\n",
       "    .dataframe thead th {\n",
       "        text-align: right;\n",
       "    }\n",
       "</style>\n",
       "<table border=\"1\" class=\"dataframe\">\n",
       "  <thead>\n",
       "    <tr style=\"text-align: right;\">\n",
       "      <th></th>\n",
       "      <th>Sets Sampled</th>\n",
       "      <th>Mean</th>\n",
       "      <th>STD</th>\n",
       "    </tr>\n",
       "  </thead>\n",
       "  <tbody>\n",
       "    <tr>\n",
       "      <th>0</th>\n",
       "      <td>1000</td>\n",
       "      <td>33.9184</td>\n",
       "      <td>0.013502</td>\n",
       "    </tr>\n",
       "    <tr>\n",
       "      <th>1</th>\n",
       "      <td>2000</td>\n",
       "      <td>34.0002</td>\n",
       "      <td>0.010521</td>\n",
       "    </tr>\n",
       "    <tr>\n",
       "      <th>2</th>\n",
       "      <td>3000</td>\n",
       "      <td>34.0202</td>\n",
       "      <td>0.019588</td>\n",
       "    </tr>\n",
       "    <tr>\n",
       "      <th>3</th>\n",
       "      <td>4000</td>\n",
       "      <td>34.0388</td>\n",
       "      <td>0.042973</td>\n",
       "    </tr>\n",
       "    <tr>\n",
       "      <th>4</th>\n",
       "      <td>5000</td>\n",
       "      <td>34.0688</td>\n",
       "      <td>0.038623</td>\n",
       "    </tr>\n",
       "  </tbody>\n",
       "</table>\n",
       "</div>"
      ],
      "text/plain": [
       "   Sets Sampled     Mean       STD\n",
       "0          1000  33.9184  0.013502\n",
       "1          2000  34.0002  0.010521\n",
       "2          3000  34.0202  0.019588\n",
       "3          4000  34.0388  0.042973\n",
       "4          5000  34.0688  0.038623"
      ]
     },
     "execution_count": 15,
     "metadata": {},
     "output_type": "execute_result"
    }
   ],
   "source": [
    "sets_agg.columns = sets_agg.columns.to_flat_index()\n",
    "sets_agg.columns = ['Sets Sampled', 'Mean', 'STD']\n",
    "sets_agg.head()"
   ]
  },
  {
   "cell_type": "code",
   "execution_count": 25,
   "id": "efb8a5c9",
   "metadata": {},
   "outputs": [
    {
     "data": {
      "text/plain": [
       "(10.0, 40.0)"
      ]
     },
     "execution_count": 25,
     "metadata": {},
     "output_type": "execute_result"
    },
    {
     "data": {
      "image/png": "[encoded data removed]",
      "text/plain": [
       "<Figure size 432x288 with 1 Axes>"
      ]
     },
     "metadata": {
      "needs_background": "light"
     },
     "output_type": "display_data"
    }
   ],
   "source": [
    "x = [str(i) for i in sets_agg['Sets Sampled']]\n",
    "height = [i for i in sets_agg['Mean']]\n",
    "\n",
    "plt.bar(x, height)\n",
    "plt.ylim(10,40)"
   ]
  },
  {
   "cell_type": "code",
   "execution_count": null,
   "id": "b6cfde2b",
   "metadata": {},
   "outputs": [],
   "source": []
  }
 ],
 "metadata": {
  "kernelspec": {
   "display_name": "Python 3 (ipykernel)",
   "language": "python",
   "name": "python3"
  },
  "language_info": {
   "codemirror_mode": {
    "name": "ipython",
    "version": 3
   },
   "file_extension": ".py",
   "mimetype": "text/x-python",
   "name": "python",
   "nbconvert_exporter": "python",
   "pygments_lexer": "ipython3",
   "version": "3.9.12"
  }
 },
 "nbformat": 4,
 "nbformat_minor": 5
}
